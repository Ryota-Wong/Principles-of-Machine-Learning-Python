{
  "cells": [
    {
      "metadata": {},
      "cell_type": "markdown",
      "source": "# Applications of Regression\n\n## Overview\n\nIn this lab you will apply regression to some realistic data. In this lab you will work with the automotive price dataset. Your goal is to construct a linear regression model to predict the price of automobiles from their characteristics. \n\nIn this lab will learn to:\n\n1. Use categorical data with scikit-learn. \n2. Apply transformations to features and labels to improve model performance. \n3. Compare regression models to improve model performance. "
    },
    {
      "metadata": {},
      "cell_type": "markdown",
      "source": "## Load the dataset\n\nAs a first, step you will load the dataset into the notebook environment. \n\nFirst, execute the code in the cell below to load  the packages you will need to run the rest of this notebook. "
    },
    {
      "metadata": {
        "trusted": true
      },
      "cell_type": "code",
      "source": "import pandas as pd\nfrom sklearn import preprocessing\nimport sklearn.model_selection as ms\nfrom sklearn import linear_model\nimport sklearn.metrics as sklm\nimport numpy as np\nimport numpy.random as nr\nimport matplotlib.pyplot as plt\nimport seaborn as sns\nimport scipy.stats as ss\nimport math\n\n%matplotlib inline",
      "execution_count": 1,
      "outputs": [
        {
          "output_type": "stream",
          "text": "/home/nbuser/anaconda3_420/lib/python3.5/site-packages/matplotlib/font_manager.py:281: UserWarning: Matplotlib is building the font cache using fc-list. This may take a moment.\n  'Matplotlib is building the font cache using fc-list. '\n",
          "name": "stderr"
        }
      ]
    },
    {
      "metadata": {},
      "cell_type": "markdown",
      "source": "The code in the cell below loads the dataset which was prepared using steps from the Data Preparation lab.Execute this code and ensure that the expected columns are present. "
    },
    {
      "metadata": {
        "trusted": true
      },
      "cell_type": "code",
      "source": "auto_prices = pd.read_csv('Auto_Data_Preped.csv')\nauto_prices.columns",
      "execution_count": 2,
      "outputs": [
        {
          "output_type": "execute_result",
          "execution_count": 2,
          "data": {
            "text/plain": "Index(['symboling', 'make', 'fuel_type', 'aspiration', 'num_of_doors',\n       'body_style', 'drive_wheels', 'engine_location', 'wheel_base', 'length',\n       'width', 'height', 'curb_weight', 'engine_type', 'num_of_cylinders',\n       'engine_size', 'fuel_system', 'bore', 'stroke', 'compression_ratio',\n       'horsepower', 'peak_rpm', 'city_mpg', 'highway_mpg', 'price',\n       'log_price'],\n      dtype='object')"
          },
          "metadata": {}
        }
      ]
    },
    {
      "metadata": {
        "trusted": true
      },
      "cell_type": "code",
      "source": "auto_prices.head()",
      "execution_count": 3,
      "outputs": [
        {
          "output_type": "execute_result",
          "execution_count": 3,
          "data": {
            "text/html": "<div>\n<table border=\"1\" class=\"dataframe\">\n  <thead>\n    <tr style=\"text-align: right;\">\n      <th></th>\n      <th>symboling</th>\n      <th>make</th>\n      <th>fuel_type</th>\n      <th>aspiration</th>\n      <th>num_of_doors</th>\n      <th>body_style</th>\n      <th>drive_wheels</th>\n      <th>engine_location</th>\n      <th>wheel_base</th>\n      <th>length</th>\n      <th>...</th>\n      <th>fuel_system</th>\n      <th>bore</th>\n      <th>stroke</th>\n      <th>compression_ratio</th>\n      <th>horsepower</th>\n      <th>peak_rpm</th>\n      <th>city_mpg</th>\n      <th>highway_mpg</th>\n      <th>price</th>\n      <th>log_price</th>\n    </tr>\n  </thead>\n  <tbody>\n    <tr>\n      <th>0</th>\n      <td>3</td>\n      <td>alfa-romero</td>\n      <td>gas</td>\n      <td>std</td>\n      <td>two</td>\n      <td>hardtop_convert</td>\n      <td>rwd</td>\n      <td>front</td>\n      <td>88.6</td>\n      <td>168.8</td>\n      <td>...</td>\n      <td>mpfi</td>\n      <td>3.47</td>\n      <td>2.68</td>\n      <td>9.0</td>\n      <td>111</td>\n      <td>5000</td>\n      <td>21</td>\n      <td>27</td>\n      <td>13495</td>\n      <td>9.510075</td>\n    </tr>\n    <tr>\n      <th>1</th>\n      <td>3</td>\n      <td>alfa-romero</td>\n      <td>gas</td>\n      <td>std</td>\n      <td>two</td>\n      <td>hardtop_convert</td>\n      <td>rwd</td>\n      <td>front</td>\n      <td>88.6</td>\n      <td>168.8</td>\n      <td>...</td>\n      <td>mpfi</td>\n      <td>3.47</td>\n      <td>2.68</td>\n      <td>9.0</td>\n      <td>111</td>\n      <td>5000</td>\n      <td>21</td>\n      <td>27</td>\n      <td>16500</td>\n      <td>9.711116</td>\n    </tr>\n    <tr>\n      <th>2</th>\n      <td>1</td>\n      <td>alfa-romero</td>\n      <td>gas</td>\n      <td>std</td>\n      <td>two</td>\n      <td>hatchback</td>\n      <td>rwd</td>\n      <td>front</td>\n      <td>94.5</td>\n      <td>171.2</td>\n      <td>...</td>\n      <td>mpfi</td>\n      <td>2.68</td>\n      <td>3.47</td>\n      <td>9.0</td>\n      <td>154</td>\n      <td>5000</td>\n      <td>19</td>\n      <td>26</td>\n      <td>16500</td>\n      <td>9.711116</td>\n    </tr>\n    <tr>\n      <th>3</th>\n      <td>2</td>\n      <td>audi</td>\n      <td>gas</td>\n      <td>std</td>\n      <td>four</td>\n      <td>sedan</td>\n      <td>fwd</td>\n      <td>front</td>\n      <td>99.8</td>\n      <td>176.6</td>\n      <td>...</td>\n      <td>mpfi</td>\n      <td>3.19</td>\n      <td>3.40</td>\n      <td>10.0</td>\n      <td>102</td>\n      <td>5500</td>\n      <td>24</td>\n      <td>30</td>\n      <td>13950</td>\n      <td>9.543235</td>\n    </tr>\n    <tr>\n      <th>4</th>\n      <td>2</td>\n      <td>audi</td>\n      <td>gas</td>\n      <td>std</td>\n      <td>four</td>\n      <td>sedan</td>\n      <td>4wd</td>\n      <td>front</td>\n      <td>99.4</td>\n      <td>176.6</td>\n      <td>...</td>\n      <td>mpfi</td>\n      <td>3.19</td>\n      <td>3.40</td>\n      <td>8.0</td>\n      <td>115</td>\n      <td>5500</td>\n      <td>18</td>\n      <td>22</td>\n      <td>17450</td>\n      <td>9.767095</td>\n    </tr>\n  </tbody>\n</table>\n<p>5 rows × 26 columns</p>\n</div>",
            "text/plain": "   symboling         make fuel_type aspiration num_of_doors       body_style  \\\n0          3  alfa-romero       gas        std          two  hardtop_convert   \n1          3  alfa-romero       gas        std          two  hardtop_convert   \n2          1  alfa-romero       gas        std          two        hatchback   \n3          2         audi       gas        std         four            sedan   \n4          2         audi       gas        std         four            sedan   \n\n  drive_wheels engine_location  wheel_base  length    ...      fuel_system  \\\n0          rwd           front        88.6   168.8    ...             mpfi   \n1          rwd           front        88.6   168.8    ...             mpfi   \n2          rwd           front        94.5   171.2    ...             mpfi   \n3          fwd           front        99.8   176.6    ...             mpfi   \n4          4wd           front        99.4   176.6    ...             mpfi   \n\n   bore  stroke compression_ratio horsepower  peak_rpm city_mpg  highway_mpg  \\\n0  3.47    2.68               9.0        111      5000       21           27   \n1  3.47    2.68               9.0        111      5000       21           27   \n2  2.68    3.47               9.0        154      5000       19           26   \n3  3.19    3.40              10.0        102      5500       24           30   \n4  3.19    3.40               8.0        115      5500       18           22   \n\n   price  log_price  \n0  13495   9.510075  \n1  16500   9.711116  \n2  16500   9.711116  \n3  13950   9.543235  \n4  17450   9.767095  \n\n[5 rows x 26 columns]"
          },
          "metadata": {}
        }
      ]
    },
    {
      "metadata": {},
      "cell_type": "markdown",
      "source": "Notice that there are both numeric and categorical features. "
    },
    {
      "metadata": {},
      "cell_type": "markdown",
      "source": "## Prepare the model matrix.\n\nAll scikit-learn models require a numpy array of numeric only values for the features. The resulting array is often referred to as the **model matrix**. \n\nTo create a model matrix from cases with both numeric and categorical variables requires two steps. First, the numeric features must be rescaled. Second, the categorical variables must be converted to a set of **dummy variables** to encode the presence or not of each category.  "
    },
    {
      "metadata": {},
      "cell_type": "markdown",
      "source": "### Create dummy variables from categorical features\n\nNow, you must create dummy variables for the categorical features. Dummy variables encode categorical features as a set of binary variables. There is one dummy variable for each possible category. For each case all of the values in the dummy variables are set to zero, except the one corresponding to the category value, which is set to one. In this way, a categorical variable with any number of categories can be encoded as series of numeric features which scikit-learn can operate on. This process is referred to as **one hot encoding** since only one dummy variable is coded as 1 (hot) per case. \n\nThe `sklearn.preprocessing` package contains functions to encode categorical features as dummy variables in two steps;\n1. The categories are  encoded as numbers starting with 0. For example, if there are 5 categories, they are encoded as the set $\\{ 0,1,2,3,4 \\}$.\n2. The numeric categories are then encoded as dummy variables. \n\nThe following example will give you a feel for how this process works. The code in the cell below computes the numeric representation of the categories for the `body_style` feature by the following steps:\n\n1. An encoder object is created using the `LabelEncoder` method.\n2. The encoder is `fit` to the unique string values of the feature. \n3. The `transformation` method then applies the numeric encoding to the original feature. \n\nExecute the code in the cell below and examine the result. "
    },
    {
      "metadata": {
        "scrolled": false,
        "trusted": true
      },
      "cell_type": "code",
      "source": "print(auto_prices['body_style'].unique())\nFeatures = auto_prices['body_style']\nenc = preprocessing.LabelEncoder()\nenc.fit(Features)\nFeatures = enc.transform(Features)\nprint(Features)",
      "execution_count": 4,
      "outputs": [
        {
          "output_type": "stream",
          "text": "['hardtop_convert' 'hatchback' 'sedan' 'wagon']\n[0 0 1 2 2 2 2 3 2 2 2 2 2 2 2 2 2 1 1 2 1 1 1 1 2 2 2 3 1 1 1 1 1 1 2 3 1\n 1 2 2 2 2 2 1 2 2 2 1 1 1 2 2 1 2 1 2 2 1 2 2 2 3 0 2 2 0 2 0 1 1 1 1 1 1\n 1 1 1 1 2 2 2 2 2 2 2 2 3 2 1 2 3 0 1 2 2 3 2 1 1 1 2 2 3 3 2 2 3 3 2 2 2\n 1 1 1 2 2 3 1 1 0 0 0 1 2 1 2 1 2 1 1 1 2 2 2 2 2 3 3 3 3 1 1 1 3 3 3 2 1\n 2 1 2 1 2 2 1 2 1 0 0 1 0 1 0 2 2 1 2 1 1 1 2 3 2 2 2 2 2 2 2 0 1 2 2 3 2\n 3 2 3 2 3 2 2 2 2 2]\n",
          "name": "stdout"
        }
      ]
    },
    {
      "metadata": {},
      "cell_type": "markdown",
      "source": "Notice that this five original body style categories of this feature is now coded as integers in the set $\\{ 0,1,2,3,4 \\}$.\n\nFor the next step in the process, the numerically coded categorical variable is converted to a set of dummy variables following these steps:\n1. A one hot encoder object is created using the `OneHotEncoder` method from the `sklearn.preprocessing` module.\n2. The numerically coded categorical feature is fit with the one hot encoder. \n3. The dummy variables are encoded using the `transform` method on the encodings.\n\nExecute the code in the cell below and examine the result. "
    },
    {
      "metadata": {
        "scrolled": true,
        "trusted": true
      },
      "cell_type": "code",
      "source": "ohe = preprocessing.OneHotEncoder()\nencoded = ohe.fit(Features.reshape(-1,1))\nFeatures = encoded.transform(Features.reshape(-1,1)).toarray()\nFeatures[:10,:]",
      "execution_count": 5,
      "outputs": [
        {
          "output_type": "execute_result",
          "execution_count": 5,
          "data": {
            "text/plain": "array([[1., 0., 0., 0.],\n       [1., 0., 0., 0.],\n       [0., 1., 0., 0.],\n       [0., 0., 1., 0.],\n       [0., 0., 1., 0.],\n       [0., 0., 1., 0.],\n       [0., 0., 1., 0.],\n       [0., 0., 0., 1.],\n       [0., 0., 1., 0.],\n       [0., 0., 1., 0.]])"
          },
          "metadata": {}
        }
      ]
    },
    {
      "metadata": {},
      "cell_type": "markdown",
      "source": "Notice that the `body_style` feature has been encoded as five columns. Each of these columns is a dummy variable representing one category. Each row has one and only one dummy variable with a 1, and the rest 0s. This is the one hot encoding. \n\nNow, you need to one hot encode all five categorical variables and append them as columns to the model matrix with the scaled numeric variables. The code in the cell below executes a `for` loop that calls the `encode_string` function and uses the numpy `concatenate` function to add the dummy variables to the model matrix. The `encode_string` function uses the same process discussed above. \n\nExecute this code, verify the result, and answer **Question 1** on the course page."
    },
    {
      "metadata": {
        "scrolled": true,
        "trusted": true
      },
      "cell_type": "code",
      "source": "def encode_string(cat_feature):\n    ## First encode the strings to numeric categories\n    enc = preprocessing.LabelEncoder()\n    enc.fit(cat_feature)\n    enc_cat_feature = enc.transform(cat_feature)\n    ## Now, apply one hot encoding\n    ohe = preprocessing.OneHotEncoder()\n    encoded = ohe.fit(enc_cat_feature.reshape(-1,1))\n    return encoded.transform(enc_cat_feature.reshape(-1,1)).toarray()\n    \n\ncategorical_columns = ['fuel_type', 'aspiration', 'drive_wheels', 'num_of_cylinders']\n\nfor col in categorical_columns:\n    temp = encode_string(auto_prices[col])\n    Features = np.concatenate([Features, temp], axis = 1)\n\nprint(Features.shape)\nprint(Features[:2, :])    ",
      "execution_count": 6,
      "outputs": [
        {
          "output_type": "stream",
          "text": "(195, 14)\n[[1. 0. 0. 0. 0. 1. 1. 0. 0. 0. 1. 0. 0. 1.]\n [1. 0. 0. 0. 0. 1. 1. 0. 0. 0. 1. 0. 0. 1.]]\n",
          "name": "stdout"
        }
      ]
    },
    {
      "metadata": {},
      "cell_type": "markdown",
      "source": "Notice that the model matrix now has 14 features which encode the five origianalcategorical features. "
    },
    {
      "metadata": {},
      "cell_type": "markdown",
      "source": "### Add the numeric features\n\nTo complete the model matrix, execute the code in the cell below to concatenate the three numeric features."
    },
    {
      "metadata": {
        "trusted": true
      },
      "cell_type": "code",
      "source": "Features = np.concatenate([Features, np.array(auto_prices[['curb_weight', 'horsepower', 'city_mpg']])], axis = 1)\nFeatures[:2,:]",
      "execution_count": 7,
      "outputs": [
        {
          "output_type": "execute_result",
          "execution_count": 7,
          "data": {
            "text/plain": "array([[1.000e+00, 0.000e+00, 0.000e+00, 0.000e+00, 0.000e+00, 1.000e+00,\n        1.000e+00, 0.000e+00, 0.000e+00, 0.000e+00, 1.000e+00, 0.000e+00,\n        0.000e+00, 1.000e+00, 2.548e+03, 1.110e+02, 2.100e+01],\n       [1.000e+00, 0.000e+00, 0.000e+00, 0.000e+00, 0.000e+00, 1.000e+00,\n        1.000e+00, 0.000e+00, 0.000e+00, 0.000e+00, 1.000e+00, 0.000e+00,\n        0.000e+00, 1.000e+00, 2.548e+03, 1.110e+02, 2.100e+01]])"
          },
          "metadata": {}
        }
      ]
    },
    {
      "metadata": {},
      "cell_type": "markdown",
      "source": "There are now 17 features, 14 dummy variables and 3 numeric features. "
    },
    {
      "metadata": {},
      "cell_type": "markdown",
      "source": "## Split the dataset\n\nWith the model matrix constructed, you must now create randomly sampled training and test data sets. The code in the cell below uses the `train_test_split` function from the `sklearn.model_selection` module to Bernoulli sample the cases in the original dataset into the two subsets. Since this data set is small only 40 cases will be included in the test dataset. Execute this code. "
    },
    {
      "metadata": {
        "trusted": true
      },
      "cell_type": "code",
      "source": "## Randomly sample cases to create independent training and test data\nnr.seed(9988)\nlabels = np.array(auto_prices['log_price'])\nindx = range(Features.shape[0])\nindx = ms.train_test_split(indx, test_size = 40)\nx_train = Features[indx[0],:]\ny_train = np.ravel(labels[indx[0]])\nx_test = Features[indx[1],:]\ny_test = np.ravel(labels[indx[1]])",
      "execution_count": 8,
      "outputs": []
    },
    {
      "metadata": {},
      "cell_type": "markdown",
      "source": "### Rescale numeric features\n\nNumeric features must be rescaled so they have a similar range of values. Rescaling prevents features from having an undue influence on model training simply because then have a larger range of numeric variables. \n\nThe code in the cell below uses the `StandardScaler` function from the Scikit Learn preprocessing package to Zscore scale the numeric features. Notice that the scaler is fit only on the training data. The trained scaler is these applied to the test data. Test data should always be scaled using the parameters from the training data. \n\nExecute this code."
    },
    {
      "metadata": {
        "trusted": true
      },
      "cell_type": "code",
      "source": "scaler = preprocessing.StandardScaler().fit(x_train[:,14:])\nx_train[:,14:] = scaler.transform(x_train[:,14:])\nx_test[:,14:] = scaler.transform(x_test[:,14:])\nprint(x_train.shape)\nx_train[:5,:]",
      "execution_count": 9,
      "outputs": [
        {
          "output_type": "stream",
          "text": "(155, 17)\n",
          "name": "stdout"
        },
        {
          "output_type": "execute_result",
          "execution_count": 9,
          "data": {
            "text/plain": "array([[ 0.        ,  0.        ,  1.        ,  0.        ,  1.        ,\n         0.        ,  1.        ,  0.        ,  0.        ,  1.        ,\n         0.        ,  0.        ,  0.        ,  1.        , -0.5384069 ,\n        -1.26225437,  1.33602998],\n       [ 0.        ,  0.        ,  1.        ,  0.        ,  0.        ,\n         1.        ,  0.        ,  1.        ,  0.        ,  0.        ,\n         1.        ,  0.        ,  0.        ,  1.        ,  0.96837381,\n         1.51064566, -1.00126852],\n       [ 0.        ,  1.        ,  0.        ,  0.        ,  0.        ,\n         1.        ,  1.        ,  0.        ,  0.        ,  1.        ,\n         0.        ,  0.        ,  0.        ,  1.        , -0.86156658,\n        -0.88897936,  0.71275038],\n       [ 0.        ,  0.        ,  1.        ,  0.        ,  0.        ,\n         1.        ,  1.        ,  0.        ,  0.        ,  1.        ,\n         0.        ,  0.        ,  0.        ,  1.        , -0.27559631,\n        -0.51570436,  0.08947078],\n       [ 0.        ,  0.        ,  1.        ,  0.        ,  0.        ,\n         1.        ,  0.        ,  1.        ,  0.        ,  0.        ,\n         1.        ,  0.        ,  0.        ,  1.        ,  0.9936815 ,\n         0.28417065, -1.00126852]])"
          },
          "metadata": {}
        }
      ]
    },
    {
      "metadata": {},
      "cell_type": "markdown",
      "source": "You can see that the numeric features have been rescaled are required. "
    },
    {
      "metadata": {},
      "cell_type": "markdown",
      "source": "## Construct the linear regression model\n\nWith data prepared and split into training and test subsets, you will now compute the linear regression model. With the dummy variables created there are 17 features, so the model will require 17 coefficients. There is no intercept specified since we are working with dummy variables. The equation for such a **multiple regression** problem can be written as:\n\n$$\\hat{y} = f(\\vec{x}) = \\vec{\\beta} \\cdot \\vec{x} + b\\\\ = \\beta_1 x_1 + \\beta_2 x_2 + \\cdots + \\beta_n x_n + b$$  \nwhere; \n$\\hat{y}$ are the predicted values or scores,   \n$\\vec{x}$ is the vector of feature values with components $\\{ x_1, x_2, \\cdots, x_n$,  \n$\\vec{\\beta}$ is vector of model coefficients with components $\\{ \\beta_1, \\beta_2, \\cdots, \\beta_n$,  \n$b$ is the intercept term, if there is one.\n\nYou can think of the linear regression function $f(\\vec{x})$ as the dot product between the beta vector $\\vec{\\beta}$ and the feature vector $\\vec{x}$, plus the intercept term $b$.\n\nThe code in the cell below uses the `sklearn import linear_model` to compute a least squares linear model as follows:\n1. A linear regression model object is created with the `LinearRegression` method. Notice, that in this case, no intercept will be fit. The intercept value or **bias** will be accommodated in the coefficients of the dummy variables for the categorical features. \n2. The model is fit using the `fit` method with the numpy array of features and the label. \n\nExecute this code. "
    },
    {
      "metadata": {
        "trusted": true
      },
      "cell_type": "code",
      "source": "## define and fit the linear regression model\nlin_mod = linear_model.LinearRegression(fit_intercept = False)\nlin_mod.fit(x_train, y_train)",
      "execution_count": 10,
      "outputs": [
        {
          "output_type": "execute_result",
          "execution_count": 10,
          "data": {
            "text/plain": "LinearRegression(copy_X=True, fit_intercept=False, n_jobs=1, normalize=False)"
          },
          "metadata": {}
        }
      ]
    },
    {
      "metadata": {},
      "cell_type": "markdown",
      "source": "The model has been fit to the training data. Execute the code in the cell below to examine the value of the intercept term and coefficients. "
    },
    {
      "metadata": {
        "trusted": true
      },
      "cell_type": "code",
      "source": "print(lin_mod.intercept_)\nprint(lin_mod.coef_)",
      "execution_count": 11,
      "outputs": [
        {
          "output_type": "stream",
          "text": "0.0\n[ 1.36372345  1.15436725  1.27397827  1.16791069  2.57778903  2.38219063\n  2.48184692  2.47813274  1.62299441  1.62646566  1.71051959  1.70397511\n  1.71596353  1.54004103  0.18009827  0.14148126 -0.07296916]\n",
          "name": "stdout"
        }
      ]
    },
    {
      "metadata": {},
      "cell_type": "markdown",
      "source": "As expected, the intercept term is `0.0`. Roughly speaking, you can interpret the coefficients of the model as follows:  \n1. The price of autos increases with weight (first coefficient), horsepower (second coefficient) and weakly decreases with fuel efficiency (third coefficient). \n2. The coefficients for the dummy variables are in a similar range, indicating the bias or intercept has been incorporated in these. "
    },
    {
      "metadata": {},
      "cell_type": "markdown",
      "source": "## Evaluate the model\n\nYou will now use the test dataset to evaluate the performance of the regression model. As a first step, execute the code in the cell below to compute and display various performance metrics and examine the results. Then, answer **Question 2** on the course page."
    },
    {
      "metadata": {
        "trusted": true
      },
      "cell_type": "code",
      "source": "def print_metrics(y_true, y_predicted, n_parameters):\n    ## First compute R^2 and the adjusted R^2\n    r2 = sklm.r2_score(y_true, y_predicted)\n    r2_adj = r2 - (n_parameters - 1)/(y_true.shape[0] - n_parameters) * (1 - r2)\n    \n    ## Print the usual metrics and the R^2 values\n    print('Mean Square Error      = ' + str(sklm.mean_squared_error(y_true, y_predicted)))\n    print('Root Mean Square Error = ' + str(math.sqrt(sklm.mean_squared_error(y_true, y_predicted))))\n    print('Mean Absolute Error    = ' + str(sklm.mean_absolute_error(y_true, y_predicted)))\n    print('Median Absolute Error  = ' + str(sklm.median_absolute_error(y_true, y_predicted)))\n    print('R^2                    = ' + str(r2))\n    print('Adjusted R^2           = ' + str(r2_adj))\n   \ny_score = lin_mod.predict(x_test) \nprint_metrics(y_test, y_score, 28)    ",
      "execution_count": 12,
      "outputs": [
        {
          "output_type": "stream",
          "text": "Mean Square Error      = 0.022616207744398483\nRoot Mean Square Error = 0.15038686027841155\nMean Absolute Error    = 0.11912678436796158\nMedian Absolute Error  = 0.10696449432930155\nR^2                    = 0.921638632102606\nAdjusted R^2           = 0.7453255543334695\n",
          "name": "stdout"
        }
      ]
    },
    {
      "metadata": {},
      "cell_type": "markdown",
      "source": "At first glance, these metrics look promising. The RMSE, MAE and median absolute error are all small and in a similar range. However, notice that the $R^2$ and $R^2_{adj}$ are rather different. This model has a large number of parameters compared to the number of cases available. This result indicates that the model may be overfit and might not generalize well. \n\nTo continue the evaluation of the model performance, execute the code in the cell below to display a histogram of the residuals. "
    },
    {
      "metadata": {
        "trusted": false
      },
      "cell_type": "code",
      "source": "def hist_resids(y_test, y_score):\n    ## first compute vector of residuals. \n    resids = np.subtract(y_test.reshape(-1,1), y_score.reshape(-1,1))\n    ## now make the residual plots\n    sns.distplot(resids)\n    plt.title('Histogram of residuals')\n    plt.xlabel('Residual value')\n    plt.ylabel('count')\n    \nhist_resids(y_test, y_score)    ",
      "execution_count": null,
      "outputs": []
    },
    {
      "metadata": {},
      "cell_type": "markdown",
      "source": "This histogram shows that the residuals are in a small range. However, there is some noticeable skew in the distribution. \n\nNext, execute the code in the cell below to display the Q-Q Normal plot. "
    },
    {
      "metadata": {
        "trusted": false
      },
      "cell_type": "code",
      "source": "def resid_qq(y_test, y_score):\n    ## first compute vector of residuals. \n    resids = np.subtract(y_test.reshape(-1,1), y_score.reshape(-1,1))\n    ## now make the residual plots\n    ss.probplot(resids.flatten(), plot = plt)\n    plt.title('Residuals vs. predicted values')\n    plt.xlabel('Predicted values')\n    plt.ylabel('Residual')\n    \nresid_qq(y_test, y_score)   ",
      "execution_count": null,
      "outputs": []
    },
    {
      "metadata": {},
      "cell_type": "markdown",
      "source": "As with the histogram, the Q-Q Normal plot indicates the residuals are close to Normally distributed, show some skew (deviation from the straight line). This is particularly for large residuals. \n\nThere is one more diagnostic plot. Execute the code in the cell below to display the plot of residuals vs. predicted values. "
    },
    {
      "metadata": {
        "trusted": false
      },
      "cell_type": "code",
      "source": "def resid_plot(y_test, y_score):\n    ## first compute vector of residuals. \n    resids = np.subtract(y_test.reshape(-1,1), y_score.reshape(-1,1))\n    ## now make the residual plots\n    sns.regplot(y_score, resids, fit_reg=False)\n    plt.title('Residuals vs. predicted values')\n    plt.xlabel('Predicted values')\n    plt.ylabel('Residual')\n\nresid_plot(y_test, y_score) ",
      "execution_count": null,
      "outputs": []
    },
    {
      "metadata": {},
      "cell_type": "markdown",
      "source": "This plot looks reasonable. The residual values appear to have a fairly constant dispersion as the predicted value changes. A few large residuals are noticeable, particularly on the positive side.\n\nBut, wait! This residual plot is for the log of the auto price. What does the plot look like when transformed to real prices? Execute the code in the cell below to find out. "
    },
    {
      "metadata": {
        "trusted": false
      },
      "cell_type": "code",
      "source": "y_score_untransform = np.exp(y_score)\ny_test_untransform = np.exp(y_test)\nresid_plot(y_test_untransform, y_score_untransform) ",
      "execution_count": null,
      "outputs": []
    },
    {
      "metadata": {},
      "cell_type": "markdown",
      "source": "Notice that the untransformed residuals show a definite trend. The dispersion of the residuals has a cone-like pattern increasing to the right. The regression model seems to do a good job of predicting the price of low cost cars, but becomes progressively worse as the price of the car increases. "
    },
    {
      "metadata": {},
      "cell_type": "markdown",
      "source": "## Summary\n\nIn this lesson you have done the following in the process of constructing and evaluating a multiple linear regression model:   \n1. Transformed the label value to make it more symmetric and closer to a Normal distribution.\n2. Aggregated categories of a categorical variable to improve the statistical representation. \n3. Scaled the numeric features. \n4. Recoded the categorical features as binary dummy variables. \n5. Fit the linear regression model using scikit-learn. \n6. Evaluated the performance of the model using both numeric and graphical methods. \n\nIt is clear from the outcome of the performance evaluation that this model needs to be improved. As it is, the model shows poor generalization. "
    },
    {
      "metadata": {
        "trusted": false
      },
      "cell_type": "code",
      "source": "",
      "execution_count": null,
      "outputs": []
    }
  ],
  "metadata": {
    "anaconda-cloud": {},
    "kernelspec": {
      "name": "python3",
      "display_name": "Python 3",
      "language": "python"
    },
    "language_info": {
      "mimetype": "text/x-python",
      "nbconvert_exporter": "python",
      "name": "python",
      "pygments_lexer": "ipython3",
      "version": "3.5.4",
      "file_extension": ".py",
      "codemirror_mode": {
        "version": 3,
        "name": "ipython"
      }
    }
  },
  "nbformat": 4,
  "nbformat_minor": 1
}